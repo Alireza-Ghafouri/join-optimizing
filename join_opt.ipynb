{
 "cells": [
  {
   "cell_type": "code",
   "execution_count": 14,
   "metadata": {},
   "outputs": [],
   "source": [
    "import igraph as ig\n",
    "import numpy as np\n",
    "###################################################\n",
    "def init_IMDB_graph():\n",
    "    N=21 #Number_of_vertices\n",
    "    g=Graph()\n",
    "    g.add_vertices(N)\n",
    "    g.add_edges([(0,1), (0,2), (0,4), (0,5), (0,6), (0,11),(0,13), (0,17), (0,20), (1,2), (2,4), (2,5), (2,6), (2,11), (2,13), (2,17), (2,20),\n",
    "                (3,4), (3,5), (3,9), (4,5), (4,6), (4,11), (4,13), (4,17), (4,20), (5,6), (5,11), (5,13), (5,17), (5,20), (6,7), (6,8), (6,9),\n",
    "                (6,10), (6,16), (6,17), (6,20), (8,9), (8,10), (11,12), (11,13), (11,17), (11,20), (13,14), (13,15), (13,17),(13,20), (17,18),\n",
    "                (17,20), (19,20)])\n",
    "    g.vs[\"table_names\"] = [\"title\",\"kind_type\",\"aka_title\",\"info_type\",\"movie_info\",\"movie_info_idx\",\"cast_info\",\"role_type\",\"name\",\n",
    "                           \"person_info\",\"aka_name\",\"movie_keyword\",\"keyword\",\"movie_companies\",\"company_type\",\"company_name\",\"char_name\",\n",
    "                           \"complete_cast\",\"comp_cast_type\",\"link_type\",\"movie_link\"]\n",
    "    g.vs[\"size\"]=[4189165, 7, 515643, 113, 257641243, 2280011, 61375706, 12, 6278675, 4048009, 1279133, 7200278, 222746, 4784207, 4,\n",
    "                   352569, 2763179, 135086, 4, 18, 2530092]\n",
    "    g.vs[\"lables\"]=[\"0\",\"1\",\"2\",\"3\",\"4\",\"5\",\"6\",\"7\",\"8\",\"9\",\"10\",\"11\",\"12\",\"13\",\"14\",\"15\",\"16\",\"17\",\"18\",\"19\",\"20\"]\n",
    "    g.es[\"selectivity\"]=[0.142, 2.01e-7, 2.14e-7, 2.16e-7, 2.22e-7, 2.11e-7, 2.17e-7, 2.20e-7, 6.88e-9, 0.1428, 1.37e-6, 9.26e-7, 2.01e-7,\n",
    "                        2.73e-6, 1.25e-6, 2.13e-6, 2.74e-6, 8.84e-3, 8.84e-3, 8.84e-3, 6.00e-8, 9.01e-8, 2.38e-7, 3.08e-8, 1.58e-7, 5.08e-6,\n",
    "                        4.01e-7, 9.84e-7, 6.25e-7, 9.75e-7, 8.91e-7, 3.26e-3, 1.59e-7, 1.38e-6, 1.60e-7, 1.62e-8, 1.58e-8, 7.58e-7, 1.59e-7,\n",
    "                        1.59e-7, 4.48e-6, 1.75e-6, 2.57e-6, 3.28e-6, 0.25, 2.83e-6, 1.12e-5, 1.28e-6, 2.57e-6, 2.57e-6, 5.55e-2]\n",
    "    sel=np.zeros((N,N))\n",
    "    pred=np.zeros((N,N), np.bool)\n",
    "    \n",
    "    for edge in g.es:\n",
    "        s=edge.source\n",
    "        t=edge.target\n",
    "        sel[t][s]=sel[s][t]=edge[\"selectivity\"]\n",
    "        pred[t][s]=pred[s][t]=True\n",
    "        \n",
    "    return N,g,sel,pred\n",
    "\n",
    "###################################################\n",
    "def init_test_graph():\n",
    "    N=7 #Number_of_vertices\n",
    "    g=Graph()\n",
    "    g.add_vertices(N)\n",
    "    g.add_edges([(0,1), (0,6), (1,2), (1,4), (2,3), (2,4), (3,4), (5,6)]) # id = label-1\n",
    "    g.vs[\"size\"]=[10, 10, 10, 10, 10, 10, 10]\n",
    "    g.vs[\"lables\"]=[\"1\",\"2\",\"3\",\"4\",\"5\",\"6\",\"7\"]\n",
    "    g.es[\"selectivity\"]=[0.7, 0.9, 0.3, 0.4, 0.5, 0.6, 0.2, 0.8]\n",
    "    sel=np.zeros((N,N))\n",
    "    pred=np.zeros((N,N), np.bool)\n",
    "    \n",
    "    for edge in g.es:\n",
    "        s=edge.source\n",
    "        t=edge.target\n",
    "        sel[t][s]=sel[s][t]=edge[\"selectivity\"]\n",
    "        pred[t][s]=pred[s][t]=True\n",
    "        \n",
    "    return N,g,sel,pred\n",
    "                    \n",
    "###################################################"
   ]
  },
  {
   "cell_type": "code",
   "execution_count": null,
   "metadata": {},
   "outputs": [],
   "source": []
  },
  {
   "cell_type": "code",
   "execution_count": null,
   "metadata": {},
   "outputs": [],
   "source": []
  },
  {
   "cell_type": "code",
   "execution_count": null,
   "metadata": {},
   "outputs": [],
   "source": []
  }
 ],
 "metadata": {
  "kernelspec": {
   "display_name": "Python 3",
   "language": "python",
   "name": "python3"
  },
  "language_info": {
   "codemirror_mode": {
    "name": "ipython",
    "version": 3
   },
   "file_extension": ".py",
   "mimetype": "text/x-python",
   "name": "python",
   "nbconvert_exporter": "python",
   "pygments_lexer": "ipython3",
   "version": "3.8.5"
  }
 },
 "nbformat": 4,
 "nbformat_minor": 4
}
